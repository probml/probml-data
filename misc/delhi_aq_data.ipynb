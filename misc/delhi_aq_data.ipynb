{
  "cells": [
    {
      "cell_type": "code",
      "source": [
        "\n",
        "\n",
        "import numpy as np\n",
        "import pandas as pd\n",
        "import numpy as np\n",
        "import xarray as xr\n",
        "\n",
        "#!wget https://github.com/patel-zeel/delhi_aq/blob/main/data/delhi_cpcb_2022.nc -O delhi.nc\n",
        "!wget https://github.com/patel-zeel/delhi_aq/raw/main/data/delhi_cpcb_2022.nc -O delhi.nc\n",
        "\n"
      ],
      "metadata": {
        "id": "yC-Q-0FzKUoY",
        "outputId": "26d3a5d2-7644-4f62-a34e-c5647a2cd5b0",
        "colab": {
          "base_uri": "https://localhost:8080/"
        }
      },
      "id": "yC-Q-0FzKUoY",
      "execution_count": 17,
      "outputs": [
        {
          "output_type": "stream",
          "name": "stdout",
          "text": [
            "--2023-05-10 22:53:17--  https://github.com/patel-zeel/delhi_aq/raw/main/data/delhi_cpcb_2022.nc\n",
            "Resolving github.com (github.com)... 140.82.121.4\n",
            "Connecting to github.com (github.com)|140.82.121.4|:443... connected.\n",
            "HTTP request sent, awaiting response... 302 Found\n",
            "Location: https://raw.githubusercontent.com/patel-zeel/delhi_aq/main/data/delhi_cpcb_2022.nc [following]\n",
            "--2023-05-10 22:53:17--  https://raw.githubusercontent.com/patel-zeel/delhi_aq/main/data/delhi_cpcb_2022.nc\n",
            "Resolving raw.githubusercontent.com (raw.githubusercontent.com)... 185.199.108.133, 185.199.111.133, 185.199.109.133, ...\n",
            "Connecting to raw.githubusercontent.com (raw.githubusercontent.com)|185.199.108.133|:443... connected.\n",
            "HTTP request sent, awaiting response... 200 OK\n",
            "Length: 59116677 (56M) [application/octet-stream]\n",
            "Saving to: ‘delhi.nc’\n",
            "\n",
            "delhi.nc            100%[===================>]  56.38M  --.-KB/s    in 0.1s    \n",
            "\n",
            "2023-05-10 22:53:17 (451 MB/s) - ‘delhi.nc’ saved [59116677/59116677]\n",
            "\n"
          ]
        }
      ]
    },
    {
      "cell_type": "code",
      "source": [
        "data = xr.open_dataset('delhi.nc')\n",
        "df = data.to_dataframe().reset_index().set_index(\"time\")\n",
        "print(len(df))\n",
        "print(df.columns)\n",
        "df.head()\n",
        "\n",
        "df.to_csv('delhi_aq.csv')"
      ],
      "metadata": {
        "id": "UFdC3DAq2Nvl",
        "outputId": "5e31b2da-c1b5-4707-f120-f32b326f347f",
        "colab": {
          "base_uri": "https://localhost:8080/"
        }
      },
      "id": "UFdC3DAq2Nvl",
      "execution_count": 27,
      "outputs": [
        {
          "output_type": "stream",
          "name": "stdout",
          "text": [
            "351320\n",
            "Index(['station', 'From Date', 'To Date', 'PM2.5', 'PM10', 'NO', 'NO2', 'NOx',\n",
            "       'NH3', 'SO2', 'CO', 'Ozone', 'Benzene', 'Toluene', 'RH', 'WS', 'WD',\n",
            "       'SR', 'BP', 'AT', 'RF', 'TOT-RF', 'latitude', 'longitude'],\n",
            "      dtype='object')\n"
          ]
        }
      ]
    },
    {
      "cell_type": "code",
      "source": [
        "!ls -l"
      ],
      "metadata": {
        "id": "9lD_tGKk5MBt",
        "outputId": "5ac59c1d-0a7d-4307-fa44-c9f10a55ac5e",
        "colab": {
          "base_uri": "https://localhost:8080/"
        }
      },
      "id": "9lD_tGKk5MBt",
      "execution_count": 28,
      "outputs": [
        {
          "output_type": "stream",
          "name": "stdout",
          "text": [
            "total 250888\n",
            "-rw-r--r-- 1 root root 70412840 May 10 22:59 delhi_aq_2022.csv\n",
            "-rw-r--r-- 1 root root 68251685 May 10 22:59 delhi_aq.csv\n",
            "-rw-r--r-- 1 root root 59116677 May 10 22:53 delhi.n\n",
            "-rw-r--r-- 1 root root 59116677 May 10 22:53 delhi.nc\n",
            "-rw-r--r-- 1 root root        0 May 10 22:47 fname\n",
            "drwxr-xr-x 1 root root     4096 May  9 13:35 sample_data\n"
          ]
        }
      ]
    },
    {
      "cell_type": "code",
      "source": [
        "# extract data for 2022\n",
        "df2022 = df[\"2022-01-01\":\"2022-12-31\"].reset_index().sort_values(by=[\"time\", \"station\"])\n",
        "print(len(df2022))\n",
        "df2022.head()\n",
        "\n",
        "df2022.to_csv('delhi_aq_2022.csv')"
      ],
      "metadata": {
        "id": "pDXLrKyv2djd",
        "outputId": "7f23ef4b-023c-481b-a995-e7e05d89a7c9",
        "colab": {
          "base_uri": "https://localhost:8080/"
        }
      },
      "id": "pDXLrKyv2djd",
      "execution_count": 26,
      "outputs": [
        {
          "output_type": "stream",
          "name": "stderr",
          "text": [
            "<ipython-input-26-1d18ed1c95af>:2: FutureWarning: Value based partial slicing on non-monotonic DatetimeIndexes with non-existing keys is deprecated and will raise a KeyError in a future Version.\n",
            "  df2022 = df[\"2022-01-01\":\"2022-12-31\"].reset_index().sort_values(by=[\"time\", \"station\"])\n"
          ]
        },
        {
          "output_type": "stream",
          "name": "stdout",
          "text": [
            "350400\n"
          ]
        }
      ]
    },
    {
      "cell_type": "code",
      "source": [
        "\n",
        "# extract data for 2022\n",
        "\n",
        "df_2022 = df.loc[\"2022\"].reset_index()\n",
        "print(len(df_2022))\n",
        "\n",
        "# convert time to hours starting from 2022\n",
        "df_2022[\"time\"] = (df_2022[\"time\"] - df_2022[\"time\"].min()) / np.timedelta64(1, 'h')\n",
        "\n",
        "assert df_2022.shape[0] == 365*24*40 == 350400 # 40 stations for 365 days and 24 hours (including missing data)\n",
        "\n",
        "df_2022.head()"
      ],
      "metadata": {
        "id": "H6NWWAIn1xDX",
        "outputId": "ba66d4bb-d912-4828-cdfb-4f31595a66cb",
        "colab": {
          "base_uri": "https://localhost:8080/",
          "height": 252
        }
      },
      "id": "H6NWWAIn1xDX",
      "execution_count": 25,
      "outputs": [
        {
          "output_type": "stream",
          "name": "stdout",
          "text": [
            "350400\n"
          ]
        },
        {
          "output_type": "execute_result",
          "data": {
            "text/plain": [
              "   time               station           From Date             To Date   PM2.5  \\\n",
              "0   0.0  Alipur, Delhi - DPCC 2022-01-01 00:00:00 2022-01-01 01:00:00  219.50   \n",
              "1   1.0  Alipur, Delhi - DPCC 2022-01-01 01:00:00 2022-01-01 02:00:00  224.50   \n",
              "2   2.0  Alipur, Delhi - DPCC 2022-01-01 02:00:00 2022-01-01 03:00:00  217.00   \n",
              "3   3.0  Alipur, Delhi - DPCC 2022-01-01 03:00:00 2022-01-01 04:00:00  214.25   \n",
              "4   4.0  Alipur, Delhi - DPCC 2022-01-01 04:00:00 2022-01-01 05:00:00  207.50   \n",
              "\n",
              "     PM10     NO    NO2     NOx   NH3  ...     RH  WS      WD    SR      BP  \\\n",
              "0  342.75  94.73  53.95  105.95  3.78  ...  79.75 NaN  205.95  4.60  999.10   \n",
              "1  360.25  89.30  44.70   96.60  5.50  ...  82.23 NaN  206.05  4.60  998.90   \n",
              "2  359.00  50.08  48.20   66.45  4.30  ...  82.30 NaN  205.38  4.62  998.70   \n",
              "3  341.50  25.18  42.80   43.30  3.70  ...  82.28 NaN  206.50  4.62  998.42   \n",
              "4  309.67  24.17  44.75   43.50  3.38  ...  82.30 NaN  211.95  4.65  998.15   \n",
              "\n",
              "     AT   RF  TOT-RF   latitude  longitude  \n",
              "0  6.85  0.0     0.0  28.815329   77.15301  \n",
              "1  6.72  0.0     0.0  28.815329   77.15301  \n",
              "2  6.97  0.0     0.0  28.815329   77.15301  \n",
              "3  6.72  0.0     0.0  28.815329   77.15301  \n",
              "4  6.60  0.0     0.0  28.815329   77.15301  \n",
              "\n",
              "[5 rows x 25 columns]"
            ],
            "text/html": [
              "\n",
              "  <div id=\"df-ad629361-09fc-41e3-8c29-ab017d067cf0\">\n",
              "    <div class=\"colab-df-container\">\n",
              "      <div>\n",
              "<style scoped>\n",
              "    .dataframe tbody tr th:only-of-type {\n",
              "        vertical-align: middle;\n",
              "    }\n",
              "\n",
              "    .dataframe tbody tr th {\n",
              "        vertical-align: top;\n",
              "    }\n",
              "\n",
              "    .dataframe thead th {\n",
              "        text-align: right;\n",
              "    }\n",
              "</style>\n",
              "<table border=\"1\" class=\"dataframe\">\n",
              "  <thead>\n",
              "    <tr style=\"text-align: right;\">\n",
              "      <th></th>\n",
              "      <th>time</th>\n",
              "      <th>station</th>\n",
              "      <th>From Date</th>\n",
              "      <th>To Date</th>\n",
              "      <th>PM2.5</th>\n",
              "      <th>PM10</th>\n",
              "      <th>NO</th>\n",
              "      <th>NO2</th>\n",
              "      <th>NOx</th>\n",
              "      <th>NH3</th>\n",
              "      <th>...</th>\n",
              "      <th>RH</th>\n",
              "      <th>WS</th>\n",
              "      <th>WD</th>\n",
              "      <th>SR</th>\n",
              "      <th>BP</th>\n",
              "      <th>AT</th>\n",
              "      <th>RF</th>\n",
              "      <th>TOT-RF</th>\n",
              "      <th>latitude</th>\n",
              "      <th>longitude</th>\n",
              "    </tr>\n",
              "  </thead>\n",
              "  <tbody>\n",
              "    <tr>\n",
              "      <th>0</th>\n",
              "      <td>0.0</td>\n",
              "      <td>Alipur, Delhi - DPCC</td>\n",
              "      <td>2022-01-01 00:00:00</td>\n",
              "      <td>2022-01-01 01:00:00</td>\n",
              "      <td>219.50</td>\n",
              "      <td>342.75</td>\n",
              "      <td>94.73</td>\n",
              "      <td>53.95</td>\n",
              "      <td>105.95</td>\n",
              "      <td>3.78</td>\n",
              "      <td>...</td>\n",
              "      <td>79.75</td>\n",
              "      <td>NaN</td>\n",
              "      <td>205.95</td>\n",
              "      <td>4.60</td>\n",
              "      <td>999.10</td>\n",
              "      <td>6.85</td>\n",
              "      <td>0.0</td>\n",
              "      <td>0.0</td>\n",
              "      <td>28.815329</td>\n",
              "      <td>77.15301</td>\n",
              "    </tr>\n",
              "    <tr>\n",
              "      <th>1</th>\n",
              "      <td>1.0</td>\n",
              "      <td>Alipur, Delhi - DPCC</td>\n",
              "      <td>2022-01-01 01:00:00</td>\n",
              "      <td>2022-01-01 02:00:00</td>\n",
              "      <td>224.50</td>\n",
              "      <td>360.25</td>\n",
              "      <td>89.30</td>\n",
              "      <td>44.70</td>\n",
              "      <td>96.60</td>\n",
              "      <td>5.50</td>\n",
              "      <td>...</td>\n",
              "      <td>82.23</td>\n",
              "      <td>NaN</td>\n",
              "      <td>206.05</td>\n",
              "      <td>4.60</td>\n",
              "      <td>998.90</td>\n",
              "      <td>6.72</td>\n",
              "      <td>0.0</td>\n",
              "      <td>0.0</td>\n",
              "      <td>28.815329</td>\n",
              "      <td>77.15301</td>\n",
              "    </tr>\n",
              "    <tr>\n",
              "      <th>2</th>\n",
              "      <td>2.0</td>\n",
              "      <td>Alipur, Delhi - DPCC</td>\n",
              "      <td>2022-01-01 02:00:00</td>\n",
              "      <td>2022-01-01 03:00:00</td>\n",
              "      <td>217.00</td>\n",
              "      <td>359.00</td>\n",
              "      <td>50.08</td>\n",
              "      <td>48.20</td>\n",
              "      <td>66.45</td>\n",
              "      <td>4.30</td>\n",
              "      <td>...</td>\n",
              "      <td>82.30</td>\n",
              "      <td>NaN</td>\n",
              "      <td>205.38</td>\n",
              "      <td>4.62</td>\n",
              "      <td>998.70</td>\n",
              "      <td>6.97</td>\n",
              "      <td>0.0</td>\n",
              "      <td>0.0</td>\n",
              "      <td>28.815329</td>\n",
              "      <td>77.15301</td>\n",
              "    </tr>\n",
              "    <tr>\n",
              "      <th>3</th>\n",
              "      <td>3.0</td>\n",
              "      <td>Alipur, Delhi - DPCC</td>\n",
              "      <td>2022-01-01 03:00:00</td>\n",
              "      <td>2022-01-01 04:00:00</td>\n",
              "      <td>214.25</td>\n",
              "      <td>341.50</td>\n",
              "      <td>25.18</td>\n",
              "      <td>42.80</td>\n",
              "      <td>43.30</td>\n",
              "      <td>3.70</td>\n",
              "      <td>...</td>\n",
              "      <td>82.28</td>\n",
              "      <td>NaN</td>\n",
              "      <td>206.50</td>\n",
              "      <td>4.62</td>\n",
              "      <td>998.42</td>\n",
              "      <td>6.72</td>\n",
              "      <td>0.0</td>\n",
              "      <td>0.0</td>\n",
              "      <td>28.815329</td>\n",
              "      <td>77.15301</td>\n",
              "    </tr>\n",
              "    <tr>\n",
              "      <th>4</th>\n",
              "      <td>4.0</td>\n",
              "      <td>Alipur, Delhi - DPCC</td>\n",
              "      <td>2022-01-01 04:00:00</td>\n",
              "      <td>2022-01-01 05:00:00</td>\n",
              "      <td>207.50</td>\n",
              "      <td>309.67</td>\n",
              "      <td>24.17</td>\n",
              "      <td>44.75</td>\n",
              "      <td>43.50</td>\n",
              "      <td>3.38</td>\n",
              "      <td>...</td>\n",
              "      <td>82.30</td>\n",
              "      <td>NaN</td>\n",
              "      <td>211.95</td>\n",
              "      <td>4.65</td>\n",
              "      <td>998.15</td>\n",
              "      <td>6.60</td>\n",
              "      <td>0.0</td>\n",
              "      <td>0.0</td>\n",
              "      <td>28.815329</td>\n",
              "      <td>77.15301</td>\n",
              "    </tr>\n",
              "  </tbody>\n",
              "</table>\n",
              "<p>5 rows × 25 columns</p>\n",
              "</div>\n",
              "      <button class=\"colab-df-convert\" onclick=\"convertToInteractive('df-ad629361-09fc-41e3-8c29-ab017d067cf0')\"\n",
              "              title=\"Convert this dataframe to an interactive table.\"\n",
              "              style=\"display:none;\">\n",
              "        \n",
              "  <svg xmlns=\"http://www.w3.org/2000/svg\" height=\"24px\"viewBox=\"0 0 24 24\"\n",
              "       width=\"24px\">\n",
              "    <path d=\"M0 0h24v24H0V0z\" fill=\"none\"/>\n",
              "    <path d=\"M18.56 5.44l.94 2.06.94-2.06 2.06-.94-2.06-.94-.94-2.06-.94 2.06-2.06.94zm-11 1L8.5 8.5l.94-2.06 2.06-.94-2.06-.94L8.5 2.5l-.94 2.06-2.06.94zm10 10l.94 2.06.94-2.06 2.06-.94-2.06-.94-.94-2.06-.94 2.06-2.06.94z\"/><path d=\"M17.41 7.96l-1.37-1.37c-.4-.4-.92-.59-1.43-.59-.52 0-1.04.2-1.43.59L10.3 9.45l-7.72 7.72c-.78.78-.78 2.05 0 2.83L4 21.41c.39.39.9.59 1.41.59.51 0 1.02-.2 1.41-.59l7.78-7.78 2.81-2.81c.8-.78.8-2.07 0-2.86zM5.41 20L4 18.59l7.72-7.72 1.47 1.35L5.41 20z\"/>\n",
              "  </svg>\n",
              "      </button>\n",
              "      \n",
              "  <style>\n",
              "    .colab-df-container {\n",
              "      display:flex;\n",
              "      flex-wrap:wrap;\n",
              "      gap: 12px;\n",
              "    }\n",
              "\n",
              "    .colab-df-convert {\n",
              "      background-color: #E8F0FE;\n",
              "      border: none;\n",
              "      border-radius: 50%;\n",
              "      cursor: pointer;\n",
              "      display: none;\n",
              "      fill: #1967D2;\n",
              "      height: 32px;\n",
              "      padding: 0 0 0 0;\n",
              "      width: 32px;\n",
              "    }\n",
              "\n",
              "    .colab-df-convert:hover {\n",
              "      background-color: #E2EBFA;\n",
              "      box-shadow: 0px 1px 2px rgba(60, 64, 67, 0.3), 0px 1px 3px 1px rgba(60, 64, 67, 0.15);\n",
              "      fill: #174EA6;\n",
              "    }\n",
              "\n",
              "    [theme=dark] .colab-df-convert {\n",
              "      background-color: #3B4455;\n",
              "      fill: #D2E3FC;\n",
              "    }\n",
              "\n",
              "    [theme=dark] .colab-df-convert:hover {\n",
              "      background-color: #434B5C;\n",
              "      box-shadow: 0px 1px 3px 1px rgba(0, 0, 0, 0.15);\n",
              "      filter: drop-shadow(0px 1px 2px rgba(0, 0, 0, 0.3));\n",
              "      fill: #FFFFFF;\n",
              "    }\n",
              "  </style>\n",
              "\n",
              "      <script>\n",
              "        const buttonEl =\n",
              "          document.querySelector('#df-ad629361-09fc-41e3-8c29-ab017d067cf0 button.colab-df-convert');\n",
              "        buttonEl.style.display =\n",
              "          google.colab.kernel.accessAllowed ? 'block' : 'none';\n",
              "\n",
              "        async function convertToInteractive(key) {\n",
              "          const element = document.querySelector('#df-ad629361-09fc-41e3-8c29-ab017d067cf0');\n",
              "          const dataTable =\n",
              "            await google.colab.kernel.invokeFunction('convertToInteractive',\n",
              "                                                     [key], {});\n",
              "          if (!dataTable) return;\n",
              "\n",
              "          const docLinkHtml = 'Like what you see? Visit the ' +\n",
              "            '<a target=\"_blank\" href=https://colab.research.google.com/notebooks/data_table.ipynb>data table notebook</a>'\n",
              "            + ' to learn more about interactive tables.';\n",
              "          element.innerHTML = '';\n",
              "          dataTable['output_type'] = 'display_data';\n",
              "          await google.colab.output.renderOutput(dataTable, element);\n",
              "          const docLink = document.createElement('div');\n",
              "          docLink.innerHTML = docLinkHtml;\n",
              "          element.appendChild(docLink);\n",
              "        }\n",
              "      </script>\n",
              "    </div>\n",
              "  </div>\n",
              "  "
            ]
          },
          "metadata": {},
          "execution_count": 25
        }
      ]
    },
    {
      "cell_type": "code",
      "source": [],
      "metadata": {
        "id": "is-xpHJ5KY0p"
      },
      "id": "is-xpHJ5KY0p",
      "execution_count": 11,
      "outputs": []
    }
  ],
  "metadata": {
    "colab": {
      "provenance": [],
      "machine_shape": "hm",
      "gpuType": "A100"
    },
    "language_info": {
      "name": "python"
    },
    "kernelspec": {
      "name": "python3",
      "display_name": "Python 3"
    },
    "gpuClass": "standard",
    "accelerator": "GPU"
  },
  "nbformat": 4,
  "nbformat_minor": 5
}